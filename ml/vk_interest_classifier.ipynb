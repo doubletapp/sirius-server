{
 "cells": [
  {
   "cell_type": "code",
   "execution_count": 41,
   "metadata": {},
   "outputs": [],
   "source": [
    "import math\n",
    "\n",
    "from collections import Counter\n",
    "from itertools import chain\n",
    "\n",
    "from requests import Session\n",
    "import requests"
   ]
  },
  {
   "cell_type": "code",
   "execution_count": 2,
   "metadata": {},
   "outputs": [],
   "source": [
    "access_token = '' # SPECIFY ACCESS TOKEN HERE"
   ]
  },
  {
   "cell_type": "code",
   "execution_count": 4,
   "metadata": {},
   "outputs": [],
   "source": [
    "import urllib\n",
    "import retrying\n",
    "from urllib.parse import urljoin\n",
    "from requests import Session\n",
    "from traceback import format_exc\n",
    "\n",
    "\n",
    "class TooManyRequests(Exception):\n",
    "    code = 6\n",
    "    message = 'Too many requests per second'\n",
    "\n",
    "class AccessDenied(Exception):\n",
    "    code = 15\n",
    "    message = 'Access denied: this profile is private'\n",
    "\n",
    "class UserDeleted(Exception):\n",
    "    code = 18\n",
    "    message = 'User was deleted or banned'\n",
    "\n",
    "class UnknownException(Exception):\n",
    "    pass\n",
    "\n",
    "\n",
    "class ApiMethod():\n",
    "    URL = 'https://api.vk.com'\n",
    "\n",
    "    def __init__(self, session, request_args):\n",
    "        self._session = session\n",
    "        self._request_args = request_args\n",
    "\n",
    "    @retrying.retry(wait_fixed=1000, stop_max_attempt_number=5)\n",
    "    def _request(self, method, **params):\n",
    "#         url = '{}?{}'.format(\n",
    "#             urljoin(self.URL, '.'.join((self.method, 'get'))),\n",
    "#             urllib.urlencode(params)\n",
    "#         )\n",
    "        url = urljoin(self.URL, '.'.join((self.method, method)))\n",
    "        try:\n",
    "            response = self._session.get(url, params=dict(params, **self._request_args))\n",
    "            _json = response.json()\n",
    "            if 'response' in _json:\n",
    "                return _json['response']\n",
    "            elif 'error' in _json:\n",
    "                if _json['error']['error_code'] == TooManyRequests.code:\n",
    "                    raise TooManyRequests()\n",
    "                elif _json['error']['error_code'] in (AccessDenied.code, UserDeleted.code):\n",
    "                    return {'items': []}  # quite unsafe \n",
    "                else:\n",
    "                    raise UnknownException # Todo                    \n",
    "            else:\n",
    "                raise UnknownException # Todo\n",
    "        except TooManyRequests:\n",
    "            raise\n",
    "        except (Exception, UnknownException):\n",
    "            # debug\n",
    "            print(format_exc())\n",
    "            print(response.content)\n",
    "            raise\n",
    "\n",
    "\n",
    "class Users(ApiMethod):\n",
    "    method = '/method/users'\n",
    "\n",
    "    def get(self, user_id, **params):\n",
    "        return self._request('get', user_id=user_id, **params)\n",
    "\n",
    "\n",
    "class Groups(ApiMethod):\n",
    "    method = '/method/groups'\n",
    "\n",
    "    def get(self, user_id, **params):\n",
    "        return self._request('get', user_id=user_id, **params)\n",
    "\n",
    "    def get_members(self, group_id, **params):\n",
    "        return self._request('getMembers', group_id=group_id, **params)\n",
    "\n",
    "\n",
    "class Friends(ApiMethod):\n",
    "    method = '/method/friends'\n",
    "\n",
    "    def get(self, user_id, **params):\n",
    "        return self._request('get', user_id=user_id, **params)\n",
    "    \n",
    "class VkAPI():\n",
    "    VERSION = '5.87'\n",
    "\n",
    "    def __init__(self, token):\n",
    "        self._session = Session()\n",
    "        self.token = token\n",
    "        request_args = {\n",
    "            'v': self.VERSION,\n",
    "            'access_token': token\n",
    "        }\n",
    "        self.users = Users(self._session, request_args)\n",
    "        self.groups = Groups(self._session, request_args)\n",
    "        self.friends = Friends(self._session, request_args)\n",
    "\n"
   ]
  },
  {
   "cell_type": "code",
   "execution_count": 8,
   "metadata": {},
   "outputs": [],
   "source": [
    "from itertools import count\n",
    "from functools import partial\n",
    "\n",
    "\n",
    "def poll(api_method_call, max_count=1000):\n",
    "    current_count = 0\n",
    "    for i in count(1):\n",
    "        response = api_method_call(count=max_count, offset=current_count)\n",
    "#         response = api.groups.get_members(group_id=SIRIUS_GROUP_ID, )\n",
    "        yield response\n",
    "\n",
    "        current_count += max_count\n",
    "        if current_count > response['count']:\n",
    "            break"
   ]
  },
  {
   "cell_type": "code",
   "execution_count": 5,
   "metadata": {},
   "outputs": [],
   "source": [
    "api = VkAPI(access_token)"
   ]
  },
  {
   "cell_type": "code",
   "execution_count": 6,
   "metadata": {},
   "outputs": [
    {
     "data": {
      "text/plain": [
       "[{'id': 4642878, 'first_name': 'Сергей', 'last_name': 'Анчутин'}]"
      ]
     },
     "execution_count": 6,
     "metadata": {},
     "output_type": "execute_result"
    }
   ],
   "source": [
    "api.users.get(user_id=4642878)"
   ]
  },
  {
   "cell_type": "code",
   "execution_count": 92,
   "metadata": {},
   "outputs": [],
   "source": [
    "sirius_url = 'https://vk.com/siriusdeti'\n",
    "cdmo_urlf = 'https://vk.com/cdmo45'\n",
    "\n",
    "serj_users = (\n",
    "    ('https://vk.com/lenin1112', 150292958),\n",
    "    ('https://vk.com/eg_75', 651277),\n",
    "    ('https://vk.com/id16011', 16011), # Oleg Yuzhakov\n",
    "    ('https://vk.com/andreymen', 37601956), # Andrey Menschikov \n",
    ")\n",
    "serj_math_recomended_groups = {\n",
    "    41447: 'https://vk.com/smskirov',\n",
    "    87264276: 'https://vk.com/kirovurtur',    \n",
    "}\n",
    "SIRIUS_GROUP_ID = 71991592"
   ]
  },
  {
   "cell_type": "code",
   "execution_count": 93,
   "metadata": {},
   "outputs": [
    {
     "name": "stdout",
     "output_type": "stream",
     "text": [
      "Math users: 4004\n"
     ]
    }
   ],
   "source": [
    "# users = set(api.friends.get(user_ids=','.join([i[1] for i in serj_users])))\n",
    "math_users = set()\n",
    "for _, user_id in serj_users:\n",
    "    math_users.update(api.friends.get(user_id=user_id)['items'])\n",
    "    \n",
    "for group_id in serj_math_recomended_groups:\n",
    "    for r in poll(partial(api.groups.get_members, group_id=group_id)):\n",
    "        math_users.update(r['items'])\n",
    "print('Math users:', len(math_users))"
   ]
  },
  {
   "cell_type": "code",
   "execution_count": 16,
   "metadata": {},
   "outputs": [
    {
     "name": "stdout",
     "output_type": "stream",
     "text": [
      "Sirius users: 39377\n"
     ]
    }
   ],
   "source": [
    "responses = poll(partial(api.groups.get_members, group_id=SIRIUS_GROUP_ID))\n",
    "\n",
    "sirius_users = set()\n",
    "for r in responses:\n",
    "    sirius_users.update(r['items'])\n",
    "\n",
    "print('Sirius users:', len(sirius_users))"
   ]
  },
  {
   "cell_type": "code",
   "execution_count": 119,
   "metadata": {},
   "outputs": [
    {
     "data": {
      "text/plain": [
       "642"
      ]
     },
     "execution_count": 119,
     "metadata": {},
     "output_type": "execute_result"
    }
   ],
   "source": [
    "math_in_sirius_users = math_users & sirius_users\n",
    "len(math_in_sirius_users)"
   ]
  },
  {
   "cell_type": "code",
   "execution_count": 158,
   "metadata": {},
   "outputs": [],
   "source": [
    "math_in_sirius_user_groups = {}\n",
    "for u in math_in_sirius_users:\n",
    "    math_in_sirius_user_groups[u] = api.groups.get(user_id=u)['items']"
   ]
  },
  {
   "cell_type": "code",
   "execution_count": 24,
   "metadata": {},
   "outputs": [
    {
     "name": "stdout",
     "output_type": "stream",
     "text": [
      "[139, 59, 196, 0, 41, 159, 89, 0, 43, 32, 42, 86, 1626, 56, 14, 68, 964, 17, 11, 648, 247, 3, 118, 74, 197, 35, 28, 16, 201, 7, 211, 513, 162, 63, 0, 45, 17, 27, 8, 106, 21, 5, 27, 104, 94, 232, 32, 48, 30, 17, 222, 0, 26, 187, 52, 163, 77, 32, 154, 126, 182, 257, 7, 25, 17, 83, 146, 3, 90, 8, 14, 44, 170, 24, 95, 66, 60, 50, 30, 93, 55, 35, 5, 0, 25, 559, 53, 11, 42, 6, 73, 179, 331, 110, 39, 47, 83, 41, 78, 0, 0, 23, 147, 37, 33, 24, 136, 56, 0, 0, 217, 99, 346, 69, 46, 187, 34, 30, 114, 18, 18, 6, 15, 43, 105, 68, 52, 0, 14, 0, 182, 42, 76, 346]\n"
     ]
    }
   ],
   "source": [
    "print([len(i) for i in math_in_sirius_user_groups.values()])"
   ]
  },
  {
   "cell_type": "code",
   "execution_count": 29,
   "metadata": {},
   "outputs": [
    {
     "data": {
      "text/plain": [
       "[(132950129, 52),\n",
       " (71991592, 42),\n",
       " (47597391, 40),\n",
       " (48976701, 32),\n",
       " (65937233, 31),\n",
       " (37887819, 25),\n",
       " (31480508, 24),\n",
       " (17413682, 23),\n",
       " (62655504, 22),\n",
       " (109232148, 20)]"
      ]
     },
     "execution_count": 29,
     "metadata": {},
     "output_type": "execute_result"
    }
   ],
   "source": [
    "c = Counter(chain.from_iterable(math_in_sirius_user_groups.values()))\n",
    "c.most_common(10)"
   ]
  },
  {
   "cell_type": "code",
   "execution_count": 31,
   "metadata": {},
   "outputs": [
    {
     "name": "stdout",
     "output_type": "stream",
     "text": [
      "52 https://vk.com/public132950129\n",
      "42 https://vk.com/public71991592\n",
      "40 https://vk.com/public47597391\n",
      "32 https://vk.com/public48976701\n",
      "31 https://vk.com/public65937233\n",
      "25 https://vk.com/public37887819\n",
      "24 https://vk.com/public31480508\n",
      "23 https://vk.com/public17413682\n",
      "22 https://vk.com/public62655504\n",
      "20 https://vk.com/public109232148\n",
      "19 https://vk.com/public29559271\n",
      "19 https://vk.com/public29534144\n",
      "19 https://vk.com/public33682639\n",
      "17 https://vk.com/public1008672\n",
      "17 https://vk.com/public1441\n",
      "17 https://vk.com/public65652356\n",
      "17 https://vk.com/public61516226\n",
      "16 https://vk.com/public30365645\n",
      "16 https://vk.com/public41437811\n",
      "16 https://vk.com/public56106344\n",
      "15 https://vk.com/public35904602\n",
      "15 https://vk.com/public78273068\n",
      "14 https://vk.com/public38683579\n",
      "14 https://vk.com/public54295855\n",
      "14 https://vk.com/public24086381\n",
      "14 https://vk.com/public109196188\n",
      "13 https://vk.com/public89780700\n",
      "13 https://vk.com/public39321576\n",
      "13 https://vk.com/public7826394\n",
      "13 https://vk.com/public76552532\n",
      "13 https://vk.com/public53845179\n",
      "12 https://vk.com/public143177265\n",
      "12 https://vk.com/public42366227\n",
      "12 https://vk.com/public31976785\n",
      "12 https://vk.com/public28950133\n",
      "12 https://vk.com/public67580761\n",
      "12 https://vk.com/public125266332\n",
      "12 https://vk.com/public91933860\n",
      "12 https://vk.com/public114086029\n",
      "12 https://vk.com/public92876084\n",
      "11 https://vk.com/public29959250\n",
      "11 https://vk.com/public58737741\n",
      "11 https://vk.com/public74404187\n",
      "11 https://vk.com/public42968101\n",
      "11 https://vk.com/public932\n",
      "11 https://vk.com/public22798006\n",
      "11 https://vk.com/public159146575\n",
      "10 https://vk.com/public75803780\n",
      "10 https://vk.com/public29302425\n",
      "10 https://vk.com/public23978336\n",
      "10 https://vk.com/public34384434\n",
      "10 https://vk.com/public106084026\n",
      "10 https://vk.com/public28122932\n",
      "10 https://vk.com/public30610911\n",
      "10 https://vk.com/public33414947\n",
      "10 https://vk.com/public114209204\n",
      "9 https://vk.com/public22822305\n",
      "9 https://vk.com/public36047336\n",
      "9 https://vk.com/public61817535\n",
      "9 https://vk.com/public22942343\n",
      "9 https://vk.com/public161180646\n",
      "9 https://vk.com/public104993817\n",
      "9 https://vk.com/public11283947\n",
      "9 https://vk.com/public30666517\n",
      "9 https://vk.com/public58170807\n",
      "9 https://vk.com/public65080714\n",
      "9 https://vk.com/public45745333\n",
      "8 https://vk.com/public87656641\n",
      "8 https://vk.com/public162729615\n",
      "8 https://vk.com/public34215577\n",
      "8 https://vk.com/public37119411\n",
      "8 https://vk.com/public48940689\n",
      "8 https://vk.com/public63731512\n",
      "8 https://vk.com/public37495032\n",
      "8 https://vk.com/public87264276\n",
      "8 https://vk.com/public20629724\n",
      "8 https://vk.com/public27895931\n",
      "8 https://vk.com/public27917858\n",
      "8 https://vk.com/public30022666\n",
      "8 https://vk.com/public33338722\n",
      "8 https://vk.com/public35294456\n",
      "8 https://vk.com/public78019879\n",
      "8 https://vk.com/public107068423\n",
      "8 https://vk.com/public147286578\n",
      "8 https://vk.com/public155590170\n",
      "8 https://vk.com/public137565779\n",
      "8 https://vk.com/public82657076\n",
      "7 https://vk.com/public29690457\n",
      "7 https://vk.com/public14897324\n",
      "7 https://vk.com/public59592700\n",
      "7 https://vk.com/public163532021\n",
      "7 https://vk.com/public142120197\n",
      "7 https://vk.com/public41447\n",
      "7 https://vk.com/public35493504\n",
      "7 https://vk.com/public26307864\n",
      "7 https://vk.com/public31076033\n",
      "7 https://vk.com/public90129113\n",
      "7 https://vk.com/public36775085\n",
      "7 https://vk.com/public73484869\n",
      "7 https://vk.com/public142918020\n",
      "7 https://vk.com/public148115211\n",
      "7 https://vk.com/public122114391\n",
      "7 https://vk.com/public72495085\n",
      "7 https://vk.com/public78423275\n",
      "7 https://vk.com/public38664418\n",
      "7 https://vk.com/public150550417\n",
      "6 https://vk.com/public92123936\n",
      "6 https://vk.com/public9073074\n",
      "6 https://vk.com/public26750264\n",
      "6 https://vk.com/public55157869\n",
      "6 https://vk.com/public99954096\n",
      "6 https://vk.com/public41180172\n",
      "6 https://vk.com/public79349766\n",
      "6 https://vk.com/public76982440\n",
      "6 https://vk.com/public34305040\n",
      "6 https://vk.com/public40167434\n",
      "6 https://vk.com/public49866476\n",
      "6 https://vk.com/public42739553\n",
      "6 https://vk.com/public170420702\n",
      "6 https://vk.com/public4799406\n",
      "6 https://vk.com/public2046466\n",
      "6 https://vk.com/public686725\n",
      "6 https://vk.com/public22142529\n",
      "6 https://vk.com/public20845272\n",
      "6 https://vk.com/public25117353\n",
      "6 https://vk.com/public28772416\n",
      "6 https://vk.com/public29246653\n",
      "6 https://vk.com/public30558759\n",
      "6 https://vk.com/public36507793\n",
      "6 https://vk.com/public40567146\n",
      "6 https://vk.com/public57678561\n",
      "6 https://vk.com/public61560900\n",
      "6 https://vk.com/public18517784\n",
      "6 https://vk.com/public128471446\n",
      "6 https://vk.com/public86908289\n",
      "6 https://vk.com/public47923094\n",
      "6 https://vk.com/public63337812\n",
      "6 https://vk.com/public98075100\n",
      "6 https://vk.com/public60114472\n",
      "6 https://vk.com/public111557607\n",
      "6 https://vk.com/public61823697\n",
      "6 https://vk.com/public80131\n",
      "6 https://vk.com/public52537634\n",
      "6 https://vk.com/public74286\n",
      "6 https://vk.com/public278143\n",
      "6 https://vk.com/public165716427\n",
      "6 https://vk.com/public65960786\n",
      "5 https://vk.com/public152683782\n",
      "5 https://vk.com/public30602036\n",
      "5 https://vk.com/public22222333\n",
      "5 https://vk.com/public30637940\n",
      "5 https://vk.com/public49439086\n",
      "5 https://vk.com/public24098496\n",
      "5 https://vk.com/public30315369\n",
      "5 https://vk.com/public35349905\n",
      "5 https://vk.com/public35486195\n",
      "5 https://vk.com/public39450745\n",
      "5 https://vk.com/public128033123\n",
      "5 https://vk.com/public38744784\n",
      "5 https://vk.com/public41610560\n",
      "5 https://vk.com/public34889014\n",
      "5 https://vk.com/public25153764\n",
      "5 https://vk.com/public49962921\n",
      "5 https://vk.com/public32015300\n",
      "5 https://vk.com/public134390109\n",
      "5 https://vk.com/public59603264\n",
      "5 https://vk.com/public125004421\n",
      "5 https://vk.com/public138045662\n",
      "5 https://vk.com/public28587219\n",
      "5 https://vk.com/public35822250\n",
      "5 https://vk.com/public95389295\n",
      "5 https://vk.com/public37160097\n",
      "5 https://vk.com/public38363244\n",
      "5 https://vk.com/public41161680\n",
      "5 https://vk.com/public41807730\n",
      "5 https://vk.com/public41883468\n",
      "5 https://vk.com/public43215063\n",
      "5 https://vk.com/public45441631\n",
      "5 https://vk.com/public45739071\n",
      "5 https://vk.com/public48319873\n",
      "5 https://vk.com/public48618580\n",
      "5 https://vk.com/public55310751\n",
      "5 https://vk.com/public72605916\n",
      "5 https://vk.com/public73843185\n",
      "5 https://vk.com/public88851361\n",
      "5 https://vk.com/public154607382\n",
      "5 https://vk.com/public165648257\n",
      "5 https://vk.com/public71729358\n",
      "5 https://vk.com/public96457590\n",
      "5 https://vk.com/public119421121\n",
      "5 https://vk.com/public23064236\n",
      "5 https://vk.com/public12648877\n",
      "5 https://vk.com/public26147450\n",
      "5 https://vk.com/public66678575\n",
      "5 https://vk.com/public144181254\n",
      "5 https://vk.com/public149653328\n",
      "5 https://vk.com/public149993556\n",
      "5 https://vk.com/public58425455\n",
      "5 https://vk.com/public22741084\n",
      "5 https://vk.com/public91050183\n",
      "5 https://vk.com/public23486067\n",
      "5 https://vk.com/public31836774\n",
      "5 https://vk.com/public75149440\n",
      "5 https://vk.com/public135395111\n",
      "5 https://vk.com/public56524793\n",
      "5 https://vk.com/public102247775\n",
      "5 https://vk.com/public84926122\n",
      "5 https://vk.com/public80038036\n",
      "4 https://vk.com/public84344859\n"
     ]
    }
   ],
   "source": [
    "for group_id, _count in c.most_common():\n",
    "    print(_count, 'https://vk.com/public{}'.format(group_id))\n",
    "    if _count < 5:\n",
    "        break"
   ]
  },
  {
   "cell_type": "code",
   "execution_count": 32,
   "metadata": {},
   "outputs": [],
   "source": [
    "serj_progers = (\n",
    "    ('https://vk.com/sicamp', 53187592),\n",
    "    ('https://vk.com/sis',     222235)\n",
    ")"
   ]
  },
  {
   "cell_type": "code",
   "execution_count": 33,
   "metadata": {},
   "outputs": [
    {
     "name": "stdout",
     "output_type": "stream",
     "text": [
      "3952\n"
     ]
    }
   ],
   "source": [
    "proger_users = set()\n",
    "for _, group_id in serj_progers:\n",
    "    for r in poll(partial(api.groups.get_members, group_id=group_id)):\n",
    "        proger_users.update(r['items'])\n",
    "print(len(proger_users))"
   ]
  },
  {
   "cell_type": "code",
   "execution_count": 34,
   "metadata": {},
   "outputs": [
    {
     "name": "stdout",
     "output_type": "stream",
     "text": [
      "580\n"
     ]
    }
   ],
   "source": [
    "proger_users_intersection = proger_users & sirius_users\n",
    "print(len(proger_users_intersection))"
   ]
  },
  {
   "cell_type": "code",
   "execution_count": 35,
   "metadata": {},
   "outputs": [],
   "source": [
    "proger_in_sirius_user_groups = {}\n",
    "for u in proger_users_intersection:\n",
    "    proger_in_sirius_user_groups[u] = api.groups.get(user_id=u)['items']"
   ]
  },
  {
   "cell_type": "code",
   "execution_count": 37,
   "metadata": {},
   "outputs": [
    {
     "name": "stdout",
     "output_type": "stream",
     "text": [
      "232 https://vk.com/public73843185\n",
      "153 https://vk.com/public71991592\n",
      "148 https://vk.com/public137565779\n",
      "145 https://vk.com/public222235\n",
      "134 https://vk.com/public37887819\n",
      "131 https://vk.com/public30666517\n",
      "122 https://vk.com/public76552532\n",
      "121 https://vk.com/public132950129\n",
      "113 https://vk.com/public72495085\n",
      "97 https://vk.com/public20629724\n",
      "96 https://vk.com/public63282215\n",
      "92 https://vk.com/public54530371\n",
      "87 https://vk.com/public29534144\n",
      "83 https://vk.com/public47597391\n",
      "82 https://vk.com/public48976701\n",
      "80 https://vk.com/public109196188\n",
      "79 https://vk.com/public103581427\n",
      "78 https://vk.com/public932\n",
      "75 https://vk.com/public22822305\n",
      "75 https://vk.com/public11283947\n",
      "75 https://vk.com/public30365645\n",
      "72 https://vk.com/public31976785\n",
      "71 https://vk.com/public30610911\n",
      "65 https://vk.com/public63731512\n",
      "64 https://vk.com/public41208167\n",
      "64 https://vk.com/public24086381\n",
      "63 https://vk.com/public29559271\n",
      "61 https://vk.com/public30558759\n",
      "60 https://vk.com/public36507793\n",
      "58 https://vk.com/public41437811\n",
      "58 https://vk.com/public74404187\n",
      "58 https://vk.com/public119421121\n",
      "56 https://vk.com/public31480508\n",
      "55 https://vk.com/public76982440\n",
      "55 https://vk.com/public65937233\n",
      "54 https://vk.com/public67845382\n",
      "54 https://vk.com/public61516226\n",
      "53 https://vk.com/public101965347\n",
      "53 https://vk.com/public25205856\n",
      "52 https://vk.com/public36147615\n",
      "51 https://vk.com/public7826394\n",
      "51 https://vk.com/public91933860\n",
      "50 https://vk.com/public36047336\n",
      "49 https://vk.com/public122114391\n",
      "48 https://vk.com/public91635769\n",
      "48 https://vk.com/public39321576\n",
      "48 https://vk.com/public67580761\n",
      "48 https://vk.com/public149857545\n",
      "48 https://vk.com/public111557607\n",
      "47 https://vk.com/public75410445\n",
      "47 https://vk.com/public99954096\n",
      "47 https://vk.com/public96783705\n",
      "47 https://vk.com/public167845876\n",
      "46 https://vk.com/public166257402\n",
      "46 https://vk.com/public4344135\n",
      "46 https://vk.com/public109232148\n",
      "45 https://vk.com/public92876084\n",
      "45 https://vk.com/public54799175\n",
      "45 https://vk.com/public56106344\n",
      "45 https://vk.com/public131616069\n",
      "43 https://vk.com/public114751985\n",
      "43 https://vk.com/public58737741\n",
      "43 https://vk.com/public73476\n",
      "42 https://vk.com/public37160097\n",
      "42 https://vk.com/public106084026\n",
      "42 https://vk.com/public25153764\n",
      "42 https://vk.com/public114611688\n",
      "42 https://vk.com/public122041958\n",
      "41 https://vk.com/public143503361\n",
      "41 https://vk.com/public36775085\n",
      "41 https://vk.com/public39009769\n",
      "40 https://vk.com/public139105204\n",
      "39 https://vk.com/public36184135\n",
      "38 https://vk.com/public30022666\n",
      "38 https://vk.com/public26270763\n",
      "38 https://vk.com/public123851409\n",
      "38 https://vk.com/public10175642\n",
      "37 https://vk.com/public92337511\n",
      "37 https://vk.com/public78423275\n",
      "37 https://vk.com/public35486195\n",
      "36 https://vk.com/public23553134\n",
      "36 https://vk.com/public16108331\n",
      "36 https://vk.com/public79746948\n",
      "35 https://vk.com/public75803780\n",
      "35 https://vk.com/public21092922\n",
      "35 https://vk.com/public43772432\n",
      "34 https://vk.com/public135395111\n",
      "34 https://vk.com/public40167434\n",
      "34 https://vk.com/public107068423\n",
      "34 https://vk.com/public72378974\n",
      "33 https://vk.com/public48940689\n",
      "33 https://vk.com/public36338110\n",
      "33 https://vk.com/public159146575\n",
      "33 https://vk.com/public72264719\n",
      "33 https://vk.com/public38683579\n",
      "33 https://vk.com/public40390806\n",
      "33 https://vk.com/public31805219\n",
      "32 https://vk.com/public23213239\n",
      "32 https://vk.com/public87656641\n",
      "32 https://vk.com/public32943877\n",
      "32 https://vk.com/public120254617\n",
      "32 https://vk.com/public17655824\n",
      "31 https://vk.com/public147286578\n",
      "31 https://vk.com/public25336774\n",
      "31 https://vk.com/public78019879\n",
      "31 https://vk.com/public41887171\n",
      "31 https://vk.com/public53187592\n",
      "31 https://vk.com/public53845179\n",
      "31 https://vk.com/public139722629\n",
      "31 https://vk.com/public29690457\n",
      "31 https://vk.com/public49597365\n",
      "31 https://vk.com/public61817535\n",
      "31 https://vk.com/public63042205\n",
      "31 https://vk.com/public45745333\n",
      "31 https://vk.com/public28950133\n",
      "30 https://vk.com/public33769500\n",
      "30 https://vk.com/public38977847\n",
      "30 https://vk.com/public11657558\n",
      "30 https://vk.com/public43215063\n",
      "29 https://vk.com/public99107988\n",
      "29 https://vk.com/public150550417\n",
      "29 https://vk.com/public15365973\n",
      "29 https://vk.com/public30315369\n",
      "29 https://vk.com/public40567146\n",
      "29 https://vk.com/public32370614\n",
      "29 https://vk.com/public33338722\n",
      "29 https://vk.com/public36868476\n",
      "29 https://vk.com/public40390768\n",
      "29 https://vk.com/public25117353\n",
      "29 https://vk.com/public78273068\n",
      "28 https://vk.com/public22522055\n",
      "28 https://vk.com/public63708206\n",
      "28 https://vk.com/public29302425\n",
      "27 https://vk.com/public2158488\n",
      "27 https://vk.com/public33393308\n",
      "27 https://vk.com/public161180646\n",
      "27 https://vk.com/public46117626\n",
      "27 https://vk.com/public22798006\n",
      "27 https://vk.com/public27797026\n",
      "27 https://vk.com/public84793390\n",
      "27 https://vk.com/public27895931\n",
      "27 https://vk.com/public12648877\n",
      "27 https://vk.com/public71794920\n",
      "27 https://vk.com/public148077056\n",
      "27 https://vk.com/public57536014\n",
      "27 https://vk.com/public43688579\n",
      "26 https://vk.com/public33414947\n",
      "26 https://vk.com/public35207911\n",
      "26 https://vk.com/public135856652\n",
      "26 https://vk.com/public27211409\n",
      "26 https://vk.com/public149163413\n",
      "26 https://vk.com/public38379853\n",
      "26 https://vk.com/public31963425\n",
      "26 https://vk.com/public114086029\n",
      "26 https://vk.com/public32439535\n",
      "25 https://vk.com/public162729615\n",
      "25 https://vk.com/public40390849\n",
      "25 https://vk.com/public71741545\n",
      "25 https://vk.com/public55155418\n",
      "25 https://vk.com/public78004698\n",
      "25 https://vk.com/public284526\n",
      "25 https://vk.com/public42968101\n",
      "25 https://vk.com/public47679753\n",
      "25 https://vk.com/public58170807\n",
      "25 https://vk.com/public160009980\n",
      "25 https://vk.com/public73788021\n",
      "25 https://vk.com/public30602036\n",
      "25 https://vk.com/public1441\n",
      "25 https://vk.com/public149993556\n",
      "25 https://vk.com/public35294456\n",
      "24 https://vk.com/public148115211\n"
     ]
    }
   ],
   "source": [
    "cp = Counter(chain.from_iterable(proger_in_sirius_user_groups.values()))\n",
    "for group_id, _count in cp.most_common():\n",
    "    print(_count, 'https://vk.com/public{}'.format(group_id))\n",
    "    if _count < 25:\n",
    "        break"
   ]
  },
  {
   "cell_type": "code",
   "execution_count": 38,
   "metadata": {},
   "outputs": [],
   "source": [
    "mentions = {}\n",
    "\n",
    "for user_id, groups in proger_in_sirius_user_groups.items():\n",
    "    for group_id in groups:\n",
    "        mentions.setdefault(user_id, dict())[group_id] = 1\n",
    "\n"
   ]
  },
  {
   "cell_type": "code",
   "execution_count": 43,
   "metadata": {},
   "outputs": [],
   "source": [
    "def distCosine (vecA, vecB):\n",
    "    def dotProduct (vecA, vecB):\n",
    "        d = 0.0\n",
    "        for dim in vecA:\n",
    "            if dim in vecB:\n",
    "                d += vecA[dim]*vecB[dim]\n",
    "        return d\n",
    "    return dotProduct (vecA,vecB) / math.sqrt(dotProduct(vecA,vecA)) / math.sqrt(dotProduct(vecB,vecB))\n",
    "\n",
    "\n",
    "def makeRecommendation(userID, userRates, nBestUsers, nBestProducts):\n",
    "    matches = [(u, distCosine(userRates[userID], userRates[u])) for u in userRates if u != userID]\n",
    "    bestMatches = sorted(matches, key=lambda x: (x[1], x[0]), reverse=True)[:nBestUsers]\n",
    "    print(\"Most correlated with '%s' users:\" % userID)\n",
    "    for line in bestMatches:\n",
    "        print(\"  UserID: %6s  Coeff: %6.4f\" % (line[0], line[1]))\n",
    "    sim = dict()\n",
    "    sim_all = sum([x[1] for x in bestMatches])\n",
    "    bestMatches = dict([x for x in bestMatches if x[1] > 0.0])        \n",
    "    for relatedUser in bestMatches:\n",
    "        for product in userRates[relatedUser]:\n",
    "            if not product in userRates[userID]:\n",
    "                if not product in sim:\n",
    "                    sim[product] = 0.0\n",
    "                sim[product] += userRates[relatedUser][product] * bestMatches[relatedUser]\n",
    "    for product in sim:\n",
    "        sim[product] /= sim_all\n",
    "    bestProducts = sorted(sim.items(), key=lambda x: (x[1], x[0]), reverse=True)[:nBestProducts]\n",
    "    print(\"Most correlated products:\")\n",
    "    for prodInfo in bestProducts:    \n",
    "        print(\"  ProductID: %6s  CorrelationCoeff: %6.4f\" % (prodInfo[0], prodInfo[1]))\n",
    "    return [(x[0], x[1]) for x in bestProducts]"
   ]
  },
  {
   "cell_type": "code",
   "execution_count": 44,
   "metadata": {},
   "outputs": [
    {
     "name": "stdout",
     "output_type": "stream",
     "text": [
      "Most correlated with '11848507' users:\n",
      "  UserID: 122686669  Coeff: 0.2359\n",
      "  UserID: 193933060  Coeff: 0.2000\n",
      "  UserID: 267072827  Coeff: 0.1925\n",
      "  UserID: 168842373  Coeff: 0.1661\n",
      "  UserID: 164277806  Coeff: 0.1581\n",
      "Most correlated products:\n",
      "  ProductID: 79746948  CorrelationCoeff: 0.6320\n",
      "  ProductID: 109232148  CorrelationCoeff: 0.6241\n",
      "  ProductID: 107068423  CorrelationCoeff: 0.4576\n",
      "  ProductID: 122114391  CorrelationCoeff: 0.4221\n",
      "  ProductID: 65937233  CorrelationCoeff: 0.4221\n"
     ]
    },
    {
     "data": {
      "text/plain": [
       "[(79746948, 0.6320004031443106),\n",
       " (109232148, 0.624074991088986),\n",
       " (107068423, 0.4575873749875527),\n",
       " (122114391, 0.4220532177668723),\n",
       " (65937233, 0.4220532177668723)]"
      ]
     },
     "execution_count": 44,
     "metadata": {},
     "output_type": "execute_result"
    }
   ],
   "source": [
    "makeRecommendation(sorted(mentions.keys())[100], mentions, 5, 5)"
   ]
  },
  {
   "cell_type": "code",
   "execution_count": 85,
   "metadata": {},
   "outputs": [],
   "source": [
    "DIMA_USER_ID = 38370578\n",
    "dima_groups = api.groups.get(user_id=DIMA_USER_ID)['items']\n",
    "\n"
   ]
  },
  {
   "cell_type": "code",
   "execution_count": 46,
   "metadata": {},
   "outputs": [],
   "source": [
    "SERJ_USER_ID = 4642878\n",
    "serj_groups = api.groups.get(user_id=SERJ_USER_ID)['items']\n",
    "for group_id in serj_groups:\n",
    "    mentions.setdefault(SERJ_USER_ID, dict())[group_id] = 1"
   ]
  },
  {
   "cell_type": "code",
   "execution_count": 47,
   "metadata": {},
   "outputs": [
    {
     "name": "stdout",
     "output_type": "stream",
     "text": [
      "Most correlated with '4642878' users:\n",
      "  UserID: 274243  Coeff: 0.0721\n",
      "  UserID: 297582804  Coeff: 0.0624\n",
      "  UserID: 32779086  Coeff: 0.0457\n",
      "  UserID: 5150346  Coeff: 0.0399\n",
      "  UserID: 93664533  Coeff: 0.0398\n",
      "Most correlated products:\n",
      "  ProductID: 91635769  CorrelationCoeff: 1.0000\n",
      "  ProductID: 20629724  CorrelationCoeff: 0.8465\n",
      "  ProductID: 73843185  CorrelationCoeff: 0.8241\n",
      "  ProductID: 91933860  CorrelationCoeff: 0.7227\n",
      "  ProductID: 41208167  CorrelationCoeff: 0.7227\n"
     ]
    },
    {
     "data": {
      "text/plain": [
       "[(91635769, 1.0),\n",
       " (20629724, 0.8464509734081572),\n",
       " (73843185, 0.8240553222104327),\n",
       " (91933860, 0.7226867909041017),\n",
       " (41208167, 0.7226867909041017)]"
      ]
     },
     "execution_count": 47,
     "metadata": {},
     "output_type": "execute_result"
    }
   ],
   "source": [
    "makeRecommendation(SERJ_USER_ID, mentions, 5, 5)"
   ]
  },
  {
   "cell_type": "code",
   "execution_count": 48,
   "metadata": {},
   "outputs": [],
   "source": [
    "historical_groups = (\n",
    "    ('https://vk.com/history_0z', 53782768),\n",
    "    ('https://vk.com/history_moments', 74938476),\n",
    "    ('https://vk.com/souffrantmittelalter', 51254145),\n",
    "    ('https://vk.com/europa_vetus', 80200319),\n",
    "    ('https://vk.com/worldamongthechaosss', 121052281),\n",
    "    ('https://vk.com/pamiattt', 33938434),\n",
    ")\n"
   ]
  },
  {
   "cell_type": "code",
   "execution_count": 50,
   "metadata": {},
   "outputs": [
    {
     "name": "stdout",
     "output_type": "stream",
     "text": [
      "233203\n"
     ]
    }
   ],
   "source": [
    "from itertools import islice\n",
    "\n",
    "\n",
    "history_users = set()\n",
    "for _, group_id in historical_groups:\n",
    "    # подписчиков слишком много, сделаем несколько запросов\n",
    "    for r in islice(poll(partial(api.groups.get_members, group_id=group_id)), 0, 50):\n",
    "        history_users.update(r['items'])\n",
    "print(len(history_users))"
   ]
  },
  {
   "cell_type": "code",
   "execution_count": 51,
   "metadata": {},
   "outputs": [
    {
     "name": "stdout",
     "output_type": "stream",
     "text": [
      "312\n"
     ]
    }
   ],
   "source": [
    "history_users_intersection = history_users & sirius_users\n",
    "print(len(history_users_intersection))"
   ]
  },
  {
   "cell_type": "code",
   "execution_count": 53,
   "metadata": {},
   "outputs": [],
   "source": [
    "history_in_sirius_user_groups = {}\n",
    "for u in history_users_intersection:\n",
    "    history_in_sirius_user_groups[u] = api.groups.get(user_id=u)['items']"
   ]
  },
  {
   "cell_type": "code",
   "execution_count": null,
   "metadata": {},
   "outputs": [],
   "source": [
    "# history_in_sirius_user_groups"
   ]
  },
  {
   "cell_type": "code",
   "execution_count": 55,
   "metadata": {},
   "outputs": [],
   "source": [
    "mentions = {}\n",
    "\n",
    "for user_id, groups in history_in_sirius_user_groups.items():\n",
    "    for group_id in groups:\n",
    "        mentions.setdefault(user_id, dict())[group_id] = 1\n",
    "\n",
    "for group_id in serj_groups:\n",
    "    mentions.setdefault(SERJ_USER_ID, dict())[group_id] = 1\n"
   ]
  },
  {
   "cell_type": "code",
   "execution_count": 58,
   "metadata": {},
   "outputs": [
    {
     "name": "stdout",
     "output_type": "stream",
     "text": [
      "Most correlated with '4642878' users:\n",
      "  UserID: 5807440  Coeff: 0.0332\n",
      "  UserID: 857630  Coeff: 0.0255\n",
      "  UserID: 748485  Coeff: 0.0248\n",
      "  UserID: 2401542  Coeff: 0.0241\n",
      "  UserID: 6100365  Coeff: 0.0233\n",
      "Most correlated products:\n",
      "  ProductID: 28261334  CorrelationCoeff: 1.0000\n",
      "  ProductID: 16466790  CorrelationCoeff: 0.8055\n",
      "  ProductID: 23303030  CorrelationCoeff: 0.7464\n",
      "  ProductID: 131101936  CorrelationCoeff: 0.6378\n",
      "  ProductID: 76982440  CorrelationCoeff: 0.6378\n",
      "[(28261334, 1.0), (16466790, 0.8054809335734195), (23303030, 0.7464153523384786), (131101936, 0.6377657821294167), (76982440, 0.6377657821294167)]\n",
      "https://vk.com/public28261334\n",
      "https://vk.com/public16466790\n",
      "https://vk.com/public23303030\n",
      "https://vk.com/public131101936\n",
      "https://vk.com/public76982440\n"
     ]
    }
   ],
   "source": [
    "serj_history_recomendations = makeRecommendation(SERJ_USER_ID, mentions, 5, 5)\n",
    "print(serj_history_recomendations)\n",
    "for group_id, _ in serj_history_recomendations:\n",
    "    print('https://vk.com/public{}'.format(group_id))"
   ]
  },
  {
   "cell_type": "code",
   "execution_count": 86,
   "metadata": {},
   "outputs": [
    {
     "name": "stdout",
     "output_type": "stream",
     "text": [
      "Most correlated with '38370578' users:\n",
      "  UserID: 2084647  Coeff: 0.0577\n",
      "  UserID: 1686574  Coeff: 0.0570\n",
      "  UserID:    976  Coeff: 0.0567\n",
      "  UserID: 96621841  Coeff: 0.0536\n",
      "  UserID: 158814953  Coeff: 0.0503\n",
      "Most correlated products:\n",
      "  ProductID: 32804027  CorrelationCoeff: 0.6227\n",
      "  ProductID: 24565142  CorrelationCoeff: 0.6227\n",
      "  ProductID: 74938476  CorrelationCoeff: 0.6078\n",
      "  ProductID: 26284064  CorrelationCoeff: 0.5981\n",
      "  ProductID: 44759043  CorrelationCoeff: 0.5959\n",
      "[(32804027, 0.622697737655578), (24565142, 0.622697737655578), (74938476, 0.6078028177895378), (26284064, 0.5981231499698045), (44759043, 0.5959196566319548)]\n",
      "https://vk.com/public32804027\n",
      "https://vk.com/public24565142\n",
      "https://vk.com/public74938476\n",
      "https://vk.com/public26284064\n",
      "https://vk.com/public44759043\n"
     ]
    }
   ],
   "source": [
    "mentions = {}\n",
    "\n",
    "for user_id, groups in history_in_sirius_user_groups.items():\n",
    "    for group_id in groups:\n",
    "        mentions.setdefault(user_id, dict())[group_id] = 1\n",
    "\n",
    "for group_id in dima_groups:\n",
    "    mentions.setdefault(DIMA_USER_ID, dict())[group_id] = 1\n",
    "\n",
    "\n",
    "dima_history_recomendations = makeRecommendation(DIMA_USER_ID, mentions, 5, 5)\n",
    "print(dima_history_recomendations)\n",
    "for group_id, _ in dima_history_recomendations:\n",
    "    print('https://vk.com/public{}'.format(group_id))"
   ]
  },
  {
   "cell_type": "code",
   "execution_count": null,
   "metadata": {},
   "outputs": [],
   "source": []
  },
  {
   "cell_type": "code",
   "execution_count": 62,
   "metadata": {},
   "outputs": [],
   "source": [
    "from sklearn.model_selection import train_test_split\n",
    "from sklearn.feature_extraction.text import CountVectorizer\n",
    "from sklearn.feature_extraction import DictVectorizer"
   ]
  },
  {
   "cell_type": "code",
   "execution_count": null,
   "metadata": {},
   "outputs": [],
   "source": [
    "from itertools import chain\n",
    "# math_in_sirius_user_groups, proger_in_sirius_user_groups, history_in_sirius_user_groups\n",
    "groups = {}"
   ]
  },
  {
   "cell_type": "code",
   "execution_count": 122,
   "metadata": {},
   "outputs": [
    {
     "data": {
      "text/plain": [
       "(642, 580, 312)"
      ]
     },
     "execution_count": 122,
     "metadata": {},
     "output_type": "execute_result"
    }
   ],
   "source": [
    "from itertools import chain\n",
    "import numpy as np\n",
    "\n",
    "vectorizer = DictVectorizer(sparse=False)\n",
    "D = [\n",
    "    dict.fromkeys(groups, 1)\n",
    "    for user_id, groups in chain(\n",
    "        sorted(math_in_sirius_user_groups.items()),\n",
    "        sorted(proger_in_sirius_user_groups.items()),\n",
    "        sorted(history_in_sirius_user_groups.items()),\n",
    "    )\n",
    "]\n",
    "X = vectorizer.fit_transform(D)\n",
    "y = np.array(['math'] * len(math_in_sirius_user_groups) + ['proger'] * len(proger_in_sirius_user_groups) + ['history'] * len(history_in_sirius_user_groups))\n",
    "len(math_in_sirius_user_groups), len(proger_in_sirius_user_groups), len(history_in_sirius_user_groups)"
   ]
  },
  {
   "cell_type": "code",
   "execution_count": 123,
   "metadata": {},
   "outputs": [
    {
     "data": {
      "text/plain": [
       "((1534, 136586), (1534,))"
      ]
     },
     "execution_count": 123,
     "metadata": {},
     "output_type": "execute_result"
    }
   ],
   "source": [
    "X.shape, y.shape"
   ]
  },
  {
   "cell_type": "code",
   "execution_count": 124,
   "metadata": {},
   "outputs": [],
   "source": [
    "X_train, X_test, y_train, y_test = train_test_split(X, y, test_size=0.33, random_state=42)"
   ]
  },
  {
   "cell_type": "code",
   "execution_count": 125,
   "metadata": {},
   "outputs": [
    {
     "data": {
      "text/plain": [
       "RandomForestClassifier(bootstrap=True, class_weight=None, criterion='gini',\n",
       "            max_depth=20, max_features='auto', max_leaf_nodes=None,\n",
       "            min_impurity_decrease=0.0, min_impurity_split=None,\n",
       "            min_samples_leaf=1, min_samples_split=2,\n",
       "            min_weight_fraction_leaf=0.0, n_estimators=200, n_jobs=None,\n",
       "            oob_score=False, random_state=42, verbose=0, warm_start=False)"
      ]
     },
     "execution_count": 125,
     "metadata": {},
     "output_type": "execute_result"
    }
   ],
   "source": [
    "from sklearn.ensemble import RandomForestClassifier\n",
    "\n",
    "\n",
    "clf = RandomForestClassifier(n_estimators=200, max_depth=20, random_state=42)\n",
    "clf.fit(X_train, y_train)"
   ]
  },
  {
   "cell_type": "code",
   "execution_count": 126,
   "metadata": {},
   "outputs": [
    {
     "data": {
      "text/plain": [
       "array([[0.11163063, 0.47730211, 0.41106726],\n",
       "       [0.10802659, 0.52350681, 0.3684666 ],\n",
       "       [0.14292074, 0.46407409, 0.39300517],\n",
       "       ...,\n",
       "       [0.0985738 , 0.41899572, 0.48243048],\n",
       "       [0.10384559, 0.41098674, 0.48516767],\n",
       "       [0.06347139, 0.57784122, 0.35868739]])"
      ]
     },
     "execution_count": 126,
     "metadata": {},
     "output_type": "execute_result"
    }
   ],
   "source": [
    "clf.predict_proba(X_test)"
   ]
  },
  {
   "cell_type": "code",
   "execution_count": 127,
   "metadata": {},
   "outputs": [
    {
     "data": {
      "text/plain": [
       "array(['math', 'math', 'math', 'math', 'math', 'math', 'math', 'math',\n",
       "       'math', 'history', 'history', 'math', 'math', 'history', 'proger',\n",
       "       'math', 'proger', 'math', 'proger', 'math', 'math', 'math',\n",
       "       'history', 'math', 'history', 'math', 'proger', 'proger', 'math',\n",
       "       'proger', 'math', 'math', 'math', 'math', 'history', 'history',\n",
       "       'math', 'proger', 'proger', 'history', 'math', 'history', 'math',\n",
       "       'math', 'proger', 'math', 'math', 'math', 'math', 'proger', 'math',\n",
       "       'math', 'proger', 'history', 'math', 'proger', 'math', 'history',\n",
       "       'math', 'history', 'math', 'math', 'math', 'math', 'proger',\n",
       "       'math', 'math', 'proger', 'math', 'math', 'math', 'math', 'proger',\n",
       "       'math', 'math', 'math', 'math', 'math', 'math', 'math', 'history',\n",
       "       'math', 'math', 'math', 'math', 'math', 'math', 'math', 'math',\n",
       "       'math', 'math', 'math', 'history', 'proger', 'proger', 'math',\n",
       "       'history', 'proger', 'math', 'proger', 'math', 'math', 'math',\n",
       "       'math', 'math', 'math', 'math', 'math', 'math', 'math', 'proger',\n",
       "       'math', 'math', 'math', 'math', 'proger', 'proger', 'proger',\n",
       "       'math', 'math', 'proger', 'math', 'math', 'math', 'math', 'proger',\n",
       "       'math', 'math', 'proger', 'proger', 'math', 'proger', 'math',\n",
       "       'math', 'history', 'math', 'math', 'math', 'proger', 'math',\n",
       "       'math', 'math', 'proger', 'history', 'math', 'math', 'math',\n",
       "       'proger', 'math', 'history', 'history', 'history', 'math', 'math',\n",
       "       'math', 'math', 'math', 'math', 'math', 'math', 'history',\n",
       "       'history', 'history', 'math', 'history', 'proger', 'math',\n",
       "       'proger', 'math', 'proger', 'math', 'math', 'proger', 'proger',\n",
       "       'math', 'math', 'math', 'math', 'proger', 'proger', 'math', 'math',\n",
       "       'math', 'math', 'proger', 'proger', 'history', 'math', 'math',\n",
       "       'math', 'math', 'history', 'proger', 'math', 'math', 'math',\n",
       "       'history', 'math', 'math', 'math', 'math', 'math', 'math', 'math',\n",
       "       'math', 'proger', 'math', 'history', 'math', 'math', 'math',\n",
       "       'math', 'math', 'math', 'math', 'math', 'history', 'proger',\n",
       "       'proger', 'math', 'math', 'math', 'proger', 'math', 'math', 'math',\n",
       "       'math', 'math', 'history', 'math', 'proger', 'proger', 'history',\n",
       "       'math', 'math', 'math', 'proger', 'math', 'math', 'math', 'math',\n",
       "       'proger', 'proger', 'history', 'math', 'math', 'history', 'math',\n",
       "       'math', 'proger', 'math', 'math', 'proger', 'math', 'math', 'math',\n",
       "       'math', 'history', 'math', 'math', 'math', 'history', 'math',\n",
       "       'math', 'proger', 'math', 'math', 'math', 'proger', 'math', 'math',\n",
       "       'math', 'proger', 'math', 'math', 'math', 'history', 'math',\n",
       "       'proger', 'proger', 'math', 'math', 'proger', 'history', 'math',\n",
       "       'math', 'math', 'math', 'proger', 'math', 'math', 'math', 'math',\n",
       "       'math', 'math', 'math', 'math', 'history', 'proger', 'math',\n",
       "       'math', 'math', 'proger', 'math', 'math', 'math', 'proger', 'math',\n",
       "       'history', 'history', 'math', 'history', 'math', 'math', 'math',\n",
       "       'math', 'history', 'history', 'math', 'history', 'math', 'math',\n",
       "       'math', 'math', 'proger', 'math', 'math', 'math', 'math', 'math',\n",
       "       'proger', 'math', 'math', 'math', 'math', 'math', 'math', 'math',\n",
       "       'history', 'math', 'math', 'math', 'proger', 'math', 'math',\n",
       "       'math', 'math', 'math', 'math', 'proger', 'math', 'proger', 'math',\n",
       "       'math', 'math', 'math', 'history', 'proger', 'proger', 'math',\n",
       "       'math', 'proger', 'math', 'math', 'history', 'math', 'math',\n",
       "       'math', 'math', 'math', 'math', 'math', 'math', 'math', 'proger',\n",
       "       'math', 'math', 'proger', 'math', 'math', 'proger', 'math',\n",
       "       'history', 'math', 'proger', 'math', 'history', 'proger', 'proger',\n",
       "       'history', 'math', 'math', 'history', 'proger', 'math', 'proger',\n",
       "       'math', 'math', 'math', 'math', 'math', 'math', 'proger', 'proger',\n",
       "       'math', 'history', 'math', 'proger', 'math', 'math', 'math',\n",
       "       'math', 'proger', 'math', 'math', 'math', 'math', 'math', 'math',\n",
       "       'proger', 'math', 'math', 'math', 'math', 'proger', 'math',\n",
       "       'history', 'math', 'history', 'proger', 'math', 'history', 'math',\n",
       "       'math', 'math', 'math', 'math', 'math', 'math', 'math', 'math',\n",
       "       'math', 'math', 'proger', 'math', 'math', 'math', 'proger', 'math',\n",
       "       'math', 'proger', 'math', 'proger', 'history', 'math', 'history',\n",
       "       'math', 'math', 'math', 'math', 'proger', 'math', 'math', 'math',\n",
       "       'math', 'math', 'math', 'proger', 'history', 'math', 'math',\n",
       "       'math', 'proger', 'proger', 'math', 'math', 'history', 'history',\n",
       "       'math', 'math', 'proger', 'math', 'proger', 'history', 'math',\n",
       "       'proger', 'proger', 'math', 'math', 'math', 'proger', 'history',\n",
       "       'math', 'history', 'math', 'math', 'math', 'math', 'proger',\n",
       "       'math', 'math', 'math', 'math', 'math', 'proger', 'proger', 'math'],\n",
       "      dtype='<U7')"
      ]
     },
     "execution_count": 127,
     "metadata": {},
     "output_type": "execute_result"
    }
   ],
   "source": [
    "clf.predict(X_test)"
   ]
  },
  {
   "cell_type": "code",
   "execution_count": 128,
   "metadata": {},
   "outputs": [
    {
     "data": {
      "text/plain": [
       "array(['history', 'math', 'math', 'proger', 'history', 'proger', 'proger',\n",
       "       'history', 'proger', 'proger', 'history', 'proger', 'math',\n",
       "       'history', 'proger', 'proger', 'proger', 'math', 'math', 'math',\n",
       "       'math', 'math', 'math', 'math', 'history', 'math', 'proger',\n",
       "       'proger', 'proger', 'proger', 'math', 'history', 'math', 'math',\n",
       "       'history', 'history', 'math', 'proger', 'proger', 'history',\n",
       "       'history', 'history', 'math', 'math', 'math', 'math', 'math',\n",
       "       'math', 'proger', 'proger', 'math', 'proger', 'proger', 'history',\n",
       "       'proger', 'proger', 'math', 'history', 'math', 'proger', 'math',\n",
       "       'proger', 'math', 'math', 'proger', 'math', 'proger', 'proger',\n",
       "       'math', 'math', 'proger', 'proger', 'proger', 'math', 'math',\n",
       "       'proger', 'proger', 'math', 'proger', 'math', 'history', 'proger',\n",
       "       'math', 'math', 'proger', 'math', 'math', 'proger', 'proger',\n",
       "       'proger', 'history', 'math', 'math', 'proger', 'history', 'math',\n",
       "       'history', 'proger', 'proger', 'proger', 'proger', 'history',\n",
       "       'math', 'history', 'math', 'history', 'proger', 'proger', 'math',\n",
       "       'history', 'math', 'proger', 'math', 'proger', 'history', 'math',\n",
       "       'proger', 'proger', 'proger', 'proger', 'proger', 'math', 'proger',\n",
       "       'proger', 'history', 'proger', 'math', 'math', 'proger', 'proger',\n",
       "       'math', 'proger', 'proger', 'proger', 'history', 'math', 'history',\n",
       "       'math', 'proger', 'proger', 'math', 'proger', 'proger', 'history',\n",
       "       'math', 'math', 'math', 'math', 'math', 'history', 'history',\n",
       "       'history', 'proger', 'math', 'history', 'math', 'math', 'history',\n",
       "       'math', 'proger', 'history', 'history', 'history', 'math', 'math',\n",
       "       'proger', 'math', 'proger', 'proger', 'proger', 'proger', 'proger',\n",
       "       'proger', 'proger', 'math', 'proger', 'math', 'math', 'proger',\n",
       "       'history', 'math', 'math', 'proger', 'math', 'proger', 'math',\n",
       "       'math', 'math', 'proger', 'math', 'proger', 'history', 'math',\n",
       "       'proger', 'proger', 'history', 'proger', 'history', 'math', 'math',\n",
       "       'math', 'history', 'proger', 'math', 'math', 'proger', 'proger',\n",
       "       'history', 'math', 'math', 'math', 'math', 'history', 'math',\n",
       "       'history', 'history', 'history', 'math', 'math', 'proger', 'math',\n",
       "       'history', 'proger', 'math', 'proger', 'math', 'math', 'proger',\n",
       "       'proger', 'math', 'history', 'proger', 'history', 'proger', 'math',\n",
       "       'proger', 'proger', 'proger', 'math', 'proger', 'proger', 'proger',\n",
       "       'proger', 'history', 'math', 'math', 'history', 'proger', 'math',\n",
       "       'proger', 'math', 'proger', 'proger', 'math', 'math', 'math',\n",
       "       'math', 'history', 'math', 'math', 'proger', 'history', 'math',\n",
       "       'math', 'proger', 'history', 'math', 'proger', 'proger', 'math',\n",
       "       'math', 'proger', 'proger', 'math', 'proger', 'proger', 'history',\n",
       "       'math', 'proger', 'proger', 'math', 'math', 'proger', 'history',\n",
       "       'math', 'proger', 'math', 'math', 'proger', 'math', 'math',\n",
       "       'proger', 'proger', 'math', 'proger', 'history', 'proger',\n",
       "       'history', 'proger', 'proger', 'math', 'math', 'proger', 'proger',\n",
       "       'history', 'math', 'history', 'math', 'proger', 'history', 'math',\n",
       "       'history', 'math', 'history', 'math', 'history', 'proger',\n",
       "       'history', 'proger', 'history', 'proger', 'math', 'math', 'math',\n",
       "       'proger', 'math', 'history', 'math', 'math', 'history', 'proger',\n",
       "       'math', 'math', 'history', 'proger', 'proger', 'proger', 'math',\n",
       "       'history', 'proger', 'proger', 'history', 'math', 'math', 'proger',\n",
       "       'proger', 'proger', 'proger', 'math', 'proger', 'math', 'proger',\n",
       "       'math', 'history', 'math', 'math', 'history', 'math', 'proger',\n",
       "       'math', 'math', 'proger', 'math', 'math', 'history', 'history',\n",
       "       'math', 'math', 'math', 'proger', 'math', 'proger', 'math',\n",
       "       'proger', 'proger', 'history', 'math', 'math', 'math', 'proger',\n",
       "       'proger', 'math', 'history', 'proger', 'proger', 'history',\n",
       "       'history', 'math', 'proger', 'history', 'proger', 'proger',\n",
       "       'history', 'proger', 'math', 'proger', 'math', 'proger', 'math',\n",
       "       'math', 'proger', 'math', 'history', 'proger', 'history',\n",
       "       'history', 'proger', 'math', 'math', 'history', 'math', 'math',\n",
       "       'proger', 'math', 'proger', 'history', 'math', 'proger', 'math',\n",
       "       'proger', 'proger', 'history', 'math', 'math', 'proger', 'math',\n",
       "       'history', 'math', 'history', 'proger', 'proger', 'history',\n",
       "       'history', 'math', 'math', 'math', 'proger', 'math', 'math',\n",
       "       'math', 'math', 'proger', 'math', 'math', 'math', 'proger',\n",
       "       'history', 'math', 'math', 'proger', 'math', 'math', 'proger',\n",
       "       'history', 'math', 'history', 'math', 'math', 'history', 'proger',\n",
       "       'proger', 'math', 'math', 'history', 'proger', 'math', 'math',\n",
       "       'math', 'history', 'proger', 'math', 'math', 'history', 'math',\n",
       "       'proger', 'proger', 'history', 'history', 'math', 'math', 'proger',\n",
       "       'math', 'proger', 'history', 'proger', 'proger', 'proger',\n",
       "       'proger', 'math', 'math', 'proger', 'history', 'proger', 'history',\n",
       "       'math', 'math', 'math', 'proger', 'math', 'math', 'math', 'math',\n",
       "       'math', 'math', 'proger', 'proger', 'proger'], dtype='<U7')"
      ]
     },
     "execution_count": 128,
     "metadata": {},
     "output_type": "execute_result"
    }
   ],
   "source": [
    "y_test"
   ]
  },
  {
   "cell_type": "code",
   "execution_count": 129,
   "metadata": {},
   "outputs": [
    {
     "name": "stdout",
     "output_type": "stream",
     "text": [
      "              precision    recall  f1-score   support\n",
      "\n",
      "     history       0.84      0.52      0.64       102\n",
      "        math       0.55      0.89      0.68       214\n",
      "      proger       0.74      0.39      0.51       191\n",
      "\n",
      "   micro avg       0.63      0.63      0.63       507\n",
      "   macro avg       0.71      0.60      0.61       507\n",
      "weighted avg       0.68      0.63      0.61       507\n",
      "\n"
     ]
    }
   ],
   "source": [
    "from sklearn.metrics import classification_report\n",
    "print(classification_report(y_test, clf.predict(X_test)))"
   ]
  },
  {
   "cell_type": "code",
   "execution_count": 130,
   "metadata": {},
   "outputs": [],
   "source": [
    "dima_x = dict.fromkeys(dima_groups, 1)\n",
    "serj_x = dict.fromkeys(serj_groups, 1)\n",
    "_X_dima = vectorizer.transform(dima_x)\n",
    "_X_serj = vectorizer.transform(serj_x)"
   ]
  },
  {
   "cell_type": "code",
   "execution_count": 131,
   "metadata": {},
   "outputs": [
    {
     "name": "stdout",
     "output_type": "stream",
     "text": [
      "['proger']\n",
      "['math']\n"
     ]
    }
   ],
   "source": [
    "print(clf.predict(_X_dima))\n",
    "print(clf.predict(_X_serj))"
   ]
  },
  {
   "cell_type": "code",
   "execution_count": 132,
   "metadata": {},
   "outputs": [
    {
     "name": "stdout",
     "output_type": "stream",
     "text": [
      "[[0.19106614 0.38331523 0.42561863]]\n",
      "[[0.12406684 0.43825296 0.4376802 ]]\n"
     ]
    }
   ],
   "source": [
    "print(clf.predict_proba(_X_dima))\n",
    "print(clf.predict_proba(_X_serj))"
   ]
  },
  {
   "cell_type": "code",
   "execution_count": 134,
   "metadata": {},
   "outputs": [
    {
     "data": {
      "text/plain": [
       "MLPClassifier(activation='relu', alpha=0.0001, batch_size='auto', beta_1=0.9,\n",
       "       beta_2=0.999, early_stopping=False, epsilon=1e-08,\n",
       "       hidden_layer_sizes=(100,), learning_rate='constant',\n",
       "       learning_rate_init=0.001, max_iter=200, momentum=0.9,\n",
       "       n_iter_no_change=10, nesterovs_momentum=True, power_t=0.5,\n",
       "       random_state=None, shuffle=True, solver='adam', tol=0.0001,\n",
       "       validation_fraction=0.1, verbose=False, warm_start=False)"
      ]
     },
     "execution_count": 134,
     "metadata": {},
     "output_type": "execute_result"
    }
   ],
   "source": [
    "from sklearn.neural_network import MLPClassifier\n",
    "\n",
    "neural_net_clf = MLPClassifier()\n",
    "neural_net_clf.fit(X_train, y_train)"
   ]
  },
  {
   "cell_type": "code",
   "execution_count": 135,
   "metadata": {},
   "outputs": [
    {
     "name": "stdout",
     "output_type": "stream",
     "text": [
      "              precision    recall  f1-score   support\n",
      "\n",
      "     history       0.89      0.48      0.62       102\n",
      "        math       0.65      0.75      0.70       214\n",
      "      proger       0.58      0.62      0.60       191\n",
      "\n",
      "   micro avg       0.65      0.65      0.65       507\n",
      "   macro avg       0.71      0.62      0.64       507\n",
      "weighted avg       0.67      0.65      0.65       507\n",
      "\n"
     ]
    }
   ],
   "source": [
    "print(classification_report(y_test, neural_net_clf.predict(X_test)))"
   ]
  },
  {
   "cell_type": "code",
   "execution_count": null,
   "metadata": {},
   "outputs": [],
   "source": []
  },
  {
   "cell_type": "code",
   "execution_count": 143,
   "metadata": {},
   "outputs": [
    {
     "data": {
      "text/plain": [
       "(545, 474, 297)"
      ]
     },
     "execution_count": 143,
     "metadata": {},
     "output_type": "execute_result"
    }
   ],
   "source": [
    "# Можно убрать пользователей, которые попали сразу в 2 группы\n",
    "from itertools import chain\n",
    "import numpy as np\n",
    "\n",
    "m = {\n",
    "    user_id: groups for user_id, groups in sorted(math_in_sirius_user_groups.items())\n",
    "    if user_id not in proger_in_sirius_user_groups and user_id not in history_in_sirius_user_groups\n",
    "}\n",
    "p = {\n",
    "    user_id: groups for user_id, groups in sorted(proger_in_sirius_user_groups.items())\n",
    "    if user_id not in math_in_sirius_user_groups and user_id not in history_in_sirius_user_groups\n",
    "}\n",
    "h = {\n",
    "    user_id: groups for user_id, groups in sorted(history_in_sirius_user_groups.items())\n",
    "    if user_id not in math_in_sirius_user_groups and user_id not in proger_in_sirius_user_groups\n",
    "}\n",
    "\n",
    "vectorizer = DictVectorizer(sparse=False)\n",
    "D = [\n",
    "    dict.fromkeys(groups, 1)\n",
    "    for user_id, groups in chain(\n",
    "        sorted(m.items()),\n",
    "        sorted(p.items()),\n",
    "        sorted(h.items()),\n",
    "    )\n",
    "]\n",
    "X = vectorizer.fit_transform(D)\n",
    "y = np.array(['math'] * len(m) + ['proger'] * len(p) + ['history'] * len(h))\n",
    "len(m), len(p), len(h)\n"
   ]
  },
  {
   "cell_type": "code",
   "execution_count": 144,
   "metadata": {},
   "outputs": [],
   "source": [
    "X_train, X_test, y_train, y_test = train_test_split(X, y, test_size=0.33, random_state=42)"
   ]
  },
  {
   "cell_type": "code",
   "execution_count": 145,
   "metadata": {},
   "outputs": [],
   "source": [
    "clf2 = RandomForestClassifier(n_estimators=200, max_depth=20, random_state=42)"
   ]
  },
  {
   "cell_type": "code",
   "execution_count": 146,
   "metadata": {},
   "outputs": [
    {
     "data": {
      "text/plain": [
       "RandomForestClassifier(bootstrap=True, class_weight=None, criterion='gini',\n",
       "            max_depth=20, max_features='auto', max_leaf_nodes=None,\n",
       "            min_impurity_decrease=0.0, min_impurity_split=None,\n",
       "            min_samples_leaf=1, min_samples_split=2,\n",
       "            min_weight_fraction_leaf=0.0, n_estimators=200, n_jobs=None,\n",
       "            oob_score=False, random_state=42, verbose=0, warm_start=False)"
      ]
     },
     "execution_count": 146,
     "metadata": {},
     "output_type": "execute_result"
    }
   ],
   "source": [
    "clf2.fit(X_train, y_train)"
   ]
  },
  {
   "cell_type": "code",
   "execution_count": 147,
   "metadata": {},
   "outputs": [
    {
     "name": "stdout",
     "output_type": "stream",
     "text": [
      "              precision    recall  f1-score   support\n",
      "\n",
      "     history       0.84      0.58      0.69        96\n",
      "        math       0.61      0.96      0.75       182\n",
      "      proger       0.96      0.52      0.67       157\n",
      "\n",
      "   micro avg       0.71      0.71      0.71       435\n",
      "   macro avg       0.80      0.69      0.70       435\n",
      "weighted avg       0.79      0.71      0.71       435\n",
      "\n"
     ]
    }
   ],
   "source": [
    "print(classification_report(y_test, clf2.predict(X_test)))"
   ]
  },
  {
   "cell_type": "code",
   "execution_count": 148,
   "metadata": {},
   "outputs": [
    {
     "data": {
      "text/plain": [
       "MLPClassifier(activation='relu', alpha=0.0001, batch_size='auto', beta_1=0.9,\n",
       "       beta_2=0.999, early_stopping=False, epsilon=1e-08,\n",
       "       hidden_layer_sizes=(100,), learning_rate='constant',\n",
       "       learning_rate_init=0.001, max_iter=200, momentum=0.9,\n",
       "       n_iter_no_change=10, nesterovs_momentum=True, power_t=0.5,\n",
       "       random_state=None, shuffle=True, solver='adam', tol=0.0001,\n",
       "       validation_fraction=0.1, verbose=False, warm_start=False)"
      ]
     },
     "execution_count": 148,
     "metadata": {},
     "output_type": "execute_result"
    }
   ],
   "source": [
    "neural_net_clf2 = MLPClassifier()\n",
    "neural_net_clf2.fit(X_train, y_train)"
   ]
  },
  {
   "cell_type": "code",
   "execution_count": 149,
   "metadata": {},
   "outputs": [
    {
     "name": "stdout",
     "output_type": "stream",
     "text": [
      "              precision    recall  f1-score   support\n",
      "\n",
      "     history       0.91      0.50      0.64        96\n",
      "        math       0.82      0.81      0.82       182\n",
      "      proger       0.68      0.87      0.76       157\n",
      "\n",
      "   micro avg       0.77      0.77      0.77       435\n",
      "   macro avg       0.80      0.73      0.74       435\n",
      "weighted avg       0.79      0.77      0.76       435\n",
      "\n"
     ]
    }
   ],
   "source": [
    "print(classification_report(y_test, neural_net_clf2.predict(X_test)))"
   ]
  },
  {
   "cell_type": "code",
   "execution_count": 150,
   "metadata": {},
   "outputs": [],
   "source": [
    "import pickle"
   ]
  },
  {
   "cell_type": "code",
   "execution_count": 156,
   "metadata": {},
   "outputs": [],
   "source": [
    "with open('interest_classifier.pkl', 'wb') as f:\n",
    "    pickle.dump(neural_net_clf2, f, protocol=pickle.HIGHEST_PROTOCOL)"
   ]
  },
  {
   "cell_type": "code",
   "execution_count": 157,
   "metadata": {},
   "outputs": [],
   "source": [
    "with open('vectorizer.pkl', 'wb') as f:\n",
    "    pickle.dump(vectorizer, f, protocol=pickle.HIGHEST_PROTOCOL)"
   ]
  },
  {
   "cell_type": "code",
   "execution_count": 159,
   "metadata": {},
   "outputs": [
    {
     "data": {
      "text/plain": [
       "array(['history', 'math', 'proger'], dtype='<U7')"
      ]
     },
     "execution_count": 159,
     "metadata": {},
     "output_type": "execute_result"
    }
   ],
   "source": [
    "neural_net_clf2.classes_"
   ]
  },
  {
   "cell_type": "code",
   "execution_count": null,
   "metadata": {},
   "outputs": [],
   "source": []
  }
 ],
 "metadata": {
  "kernelspec": {
   "display_name": "Python 3",
   "language": "python",
   "name": "python3"
  },
  "language_info": {
   "codemirror_mode": {
    "name": "ipython",
    "version": 3
   },
   "file_extension": ".py",
   "mimetype": "text/x-python",
   "name": "python",
   "nbconvert_exporter": "python",
   "pygments_lexer": "ipython3",
   "version": "3.6.5"
  }
 },
 "nbformat": 4,
 "nbformat_minor": 2
}
